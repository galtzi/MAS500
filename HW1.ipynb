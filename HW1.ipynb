{
 "cells": [
  {
   "cell_type": "code",
   "execution_count": 31,
   "metadata": {
    "collapsed": false
   },
   "outputs": [
    {
     "name": "stdout",
     "output_type": "stream",
     "text": [
      "Did US Mainstream Media sources talk about Trump or Clinton more in September 2016?\n",
      "Clinton was mentioned 16 times\n",
      "Trump was mentioned 57 times\n",
      "Trump was mentioned more times than Clinton\n"
     ]
    }
   ],
   "source": [
    "import mediacloud, datetime\n",
    "f = open('private_key.txt', 'r')\n",
    "privatekey = f.read()\n",
    "mc = mediacloud.api.MediaCloud(privatekey)\n",
    "res_c = mc.sentenceCount('( clinton)', solr_filter=[mc.publish_date_query( datetime.date( 2016, 1, 9), datetime.date( 2016, 1, 10) ), 'media_sets_id:1' ])\n",
    "res_t = mc.sentenceCount('( trump)', solr_filter=[mc.publish_date_query( datetime.date( 2016, 1, 9), datetime.date( 2016, 1, 10) ), 'media_sets_id:1' ])\n",
    "print \"Did US Mainstream Media sources talk about Trump or Clinton more in September 2016?\"\n",
    "print \"Clinton was mentioned\", res_c['count'],\"times\" # prints the number of sentences found for Clinton\n",
    "print \"Trump was mentioned\", res_t['count'],\"times\" # prints the number of sentences found for Trump\n",
    "if int(res_c['count']) > int(res_t['count']):\n",
    "    print \"Clinton was mentioned more times than Trump\"\n",
    "elif int(res_c['count']) < int(res_t['count']):\n",
    "    print \"Trump was mentioned more times than Clinton\"\n",
    "else:\n",
    "    print \"They both mentioned equal number of times\"\n",
    "    \n",
    "    \n",
    "# Resources:\n",
    "# API call code example was taken from https://pypi.python.org/pypi/mediacloud/2.24.1\n",
    "    "
   ]
  },
  {
   "cell_type": "code",
   "execution_count": null,
   "metadata": {
    "collapsed": true
   },
   "outputs": [],
   "source": []
  },
  {
   "cell_type": "code",
   "execution_count": null,
   "metadata": {
    "collapsed": true
   },
   "outputs": [],
   "source": []
  },
  {
   "cell_type": "code",
   "execution_count": null,
   "metadata": {
    "collapsed": true
   },
   "outputs": [],
   "source": []
  },
  {
   "cell_type": "code",
   "execution_count": null,
   "metadata": {
    "collapsed": true
   },
   "outputs": [],
   "source": []
  },
  {
   "cell_type": "code",
   "execution_count": null,
   "metadata": {
    "collapsed": true
   },
   "outputs": [],
   "source": []
  }
 ],
 "metadata": {
  "kernelspec": {
   "display_name": "Python 2",
   "language": "python",
   "name": "python2"
  },
  "language_info": {
   "codemirror_mode": {
    "name": "ipython",
    "version": 2
   },
   "file_extension": ".py",
   "mimetype": "text/x-python",
   "name": "python",
   "nbconvert_exporter": "python",
   "pygments_lexer": "ipython2",
   "version": "2.7.12"
  }
 },
 "nbformat": 4,
 "nbformat_minor": 1
}
