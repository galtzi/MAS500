{
 "cells": [
  {
   "cell_type": "code",
   "execution_count": 27,
   "metadata": {
    "collapsed": false
   },
   "outputs": [
    {
     "name": "stdout",
     "output_type": "stream",
     "text": [
      "Enter first term for comparison: t\n",
      "Enter second term for comparison: t\n",
      "Enter starting date for comparison: (of the form MM/DD/YYYY) 09/01/2016\n",
      "Enter ending date for comparison: (of the form MM/DD/YYYY) 10/01/2016\n",
      "\n",
      "\n",
      "Did US Mainstream Media sources talk about t or t more from 09/01/2016 to 10/01/2016?\n",
      "t was mentioned 99 times\n",
      "t was mentioned 99 times\n",
      "Both terms mentioned equal number of times\n"
     ]
    }
   ],
   "source": [
    "import mediacloud, datetime\n",
    "import logging\n",
    "\n",
    "def parseDate(orgDate):\n",
    "    monthDate, dayDate, yearDate = map(int, orgDate.split(\"/\"))\n",
    "    return monthDate, dayDate, yearDate\n",
    "\n",
    "def apiCall(term, fromdate, todate):\n",
    "    fromdateMonth, fromdateDay, fromdateYear = parseDate(fromdate)\n",
    "    todateMonth, todateDay, todateYear = parseDate(todate)\n",
    "    resCount = mc.sentenceCount('(' + term + ')', solr_filter=[mc.publish_date_query( datetime.date( fromdateYear, fromdateDay, fromdateMonth), datetime.date( todateYear, todateDay, todateMonth) ), 'media_sets_id:1' ])\n",
    "    return resCount\n",
    "\n",
    "logging.basicConfig(filename='example.log', level=logging.DEBUG)\n",
    "\n",
    "f = open('private_key.txt', 'r')\n",
    "privatekey = f.read()\n",
    "mc = mediacloud.api.MediaCloud(privatekey)\n",
    "\n",
    "logging.debug('Mediacloud Session Started')\n",
    "\n",
    "term1 = raw_input('Enter first term for comparison: ')\n",
    "term2 = raw_input('Enter second term for comparison: ')\n",
    "fromdate = raw_input('Enter starting date for comparison: (of the form MM/DD/YYYY) ')\n",
    "todate =  raw_input('Enter ending date for comparison: (of the form MM/DD/YYYY) ')\n",
    "\n",
    "logging.debug('Inputs received:\\nterm1 = %s \\nterm2 = %s \\nfromdate = %s \\ntodate = %s',term1, term2,fromdate,todate)\n",
    "\n",
    "res1 = apiCall(term1, fromdate, todate)\n",
    "res2 = apiCall(term2, fromdate, todate)\n",
    "\n",
    "\n",
    "print '\\n'\n",
    "print \"Did US Mainstream Media sources talk about \" + term1 +\" or \" + term2 + \" more from \" + fromdate + \" to \" + todate + \"?\"\n",
    "print term1 + \" was mentioned\", res1['count'],\"times\" # prints the number of sentences found for Clinton\n",
    "print term2 + \" was mentioned\", res2['count'],\"times\" # prints the number of sentences found for Trump\n",
    "if int(res1['count']) > int(res2['count']):\n",
    "    print term1 + \" was mentioned more times than \" + term2\n",
    "elif int(res1['count']) < int(res2['count']):\n",
    "    print term2 + \" was mentioned more times than \" + term1\n",
    "else:\n",
    "    print \"Both terms mentioned equal number of times\"\n",
    "    \n",
    "\n",
    "# Resources:\n",
    "# API call code example was taken from https://pypi.python.org/pypi/mediacloud/2.24.1\n",
    "    "
   ]
  },
  {
   "cell_type": "code",
   "execution_count": 22,
   "metadata": {
    "collapsed": false
   },
   "outputs": [],
   "source": [
    "import unittest\n",
    "\n",
    "class MyTest(unittest.TestCase):\n",
    "    def test(self):\n",
    "        self.assertEqual(apiCall('clinton', '09/01/2016', '10/01/2016'), 16)\n",
    "    \n",
    "    \n",
    "#tests \n",
    "# term is string\n",
    "# date is xx/xx/2016\n",
    "# return isnot null\n"
   ]
  },
  {
   "cell_type": "code",
   "execution_count": 23,
   "metadata": {
    "collapsed": true
   },
   "outputs": [],
   "source": []
  },
  {
   "cell_type": "code",
   "execution_count": null,
   "metadata": {
    "collapsed": true
   },
   "outputs": [],
   "source": []
  },
  {
   "cell_type": "code",
   "execution_count": null,
   "metadata": {
    "collapsed": true
   },
   "outputs": [],
   "source": []
  },
  {
   "cell_type": "code",
   "execution_count": null,
   "metadata": {
    "collapsed": true
   },
   "outputs": [],
   "source": []
  }
 ],
 "metadata": {
  "kernelspec": {
   "display_name": "Python 2",
   "language": "python",
   "name": "python2"
  },
  "language_info": {
   "codemirror_mode": {
    "name": "ipython",
    "version": 2
   },
   "file_extension": ".py",
   "mimetype": "text/x-python",
   "name": "python",
   "nbconvert_exporter": "python",
   "pygments_lexer": "ipython2",
   "version": "2.7.12"
  }
 },
 "nbformat": 4,
 "nbformat_minor": 1
}
