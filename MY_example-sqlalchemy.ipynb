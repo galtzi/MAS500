{
 "cells": [
  {
   "cell_type": "markdown",
   "metadata": {},
   "source": [
    "Using SQLAlchemy to Talk to a Database\n",
    "=====================\n",
    "SqlAlchemy helps you use a database to store and retrieve information from python.  It abstracts the specific storage engine from te way you use it - so it doesn't care if you end up using MySQL, SQLite, or whatever else. In addition, you can use core and the object-relational mapper (ORM) to avoid writing any SQL at all.  The [SQLAlchemy homepage](http://www.sqlalchemy.org/) has lots of good examples and full documentation."
   ]
  },
  {
   "cell_type": "code",
   "execution_count": 4,
   "metadata": {
    "collapsed": false
   },
   "outputs": [],
   "source": [
    "from sqlalchemy import *\n",
    "import datetime\n",
    "import mediacloud"
   ]
  },
  {
   "cell_type": "markdown",
   "metadata": {},
   "source": [
    "## Basic SQL Generation\n",
    "The core library generates SQL for you.  Read more about it on their [expression language tutorial page](http://docs.sqlalchemy.org/en/rel_1_0/core/index.html). Below are some basic examples."
   ]
  },
  {
   "cell_type": "markdown",
   "metadata": {},
   "source": [
    "### Creating a Table\n",
    "Read more about [defining and creating tables](http://docs.sqlalchemy.org/en/rel_1_0/core/tutorial.html#define-and-create-tables)."
   ]
  },
  {
   "cell_type": "code",
   "execution_count": 7,
   "metadata": {
    "collapsed": false
   },
   "outputs": [
    {
     "name": "stdout",
     "output_type": "stream",
     "text": [
      "2016-12-06 17:55:34,424 INFO sqlalchemy.engine.base.Engine SELECT CAST('test plain returns' AS VARCHAR(60)) AS anon_1\n",
      "2016-12-06 17:55:34,424 INFO sqlalchemy.engine.base.Engine ()\n",
      "2016-12-06 17:55:34,427 INFO sqlalchemy.engine.base.Engine SELECT CAST('test unicode returns' AS VARCHAR(60)) AS anon_1\n",
      "2016-12-06 17:55:34,427 INFO sqlalchemy.engine.base.Engine ()\n",
      "2016-12-06 17:55:34,430 INFO sqlalchemy.engine.base.Engine PRAGMA table_info(\"queries\")\n",
      "2016-12-06 17:55:34,430 INFO sqlalchemy.engine.base.Engine ()\n",
      "2016-12-06 17:55:34,433 INFO sqlalchemy.engine.base.Engine \n",
      "CREATE TABLE queries (\n",
      "\tid INTEGER NOT NULL, \n",
      "\tkeywords VARCHAR(400) NOT NULL, \n",
      "\ttimestamp DATETIME, \n",
      "\tresults INTEGER, \n",
      "\tPRIMARY KEY (id)\n",
      ")\n",
      "\n",
      "\n",
      "2016-12-06 17:55:34,434 INFO sqlalchemy.engine.base.Engine ()\n",
      "2016-12-06 17:55:34,436 INFO sqlalchemy.engine.base.Engine COMMIT\n"
     ]
    }
   ],
   "source": [
    "# add `echo=True` to see log statements of all the SQL that is generated\n",
    "engine = create_engine('sqlite:///:memory:',echo=True) # just save the db in memory for now (ie. not on disk)\n",
    "metadata = MetaData()\n",
    "# define a table to use\n",
    "queries = Table('queries', metadata,\n",
    "    Column('id', Integer, primary_key=True),\n",
    "    Column('keywords', String(400), nullable=False),\n",
    "    Column('timestamp', DateTime, default=datetime.datetime.now),\n",
    "    Column('results', INT)\n",
    ")\n",
    "metadata.create_all(engine) # and create the tables in the database"
   ]
  },
  {
   "cell_type": "markdown",
   "metadata": {},
   "source": [
    "### Inserting Data\n",
    "Read more about generating [SQL insert statements](http://docs.sqlalchemy.org/en/rel_1_0/core/tutorial.html#insert-expressions)."
   ]
  },
  {
   "cell_type": "code",
   "execution_count": 8,
   "metadata": {
    "collapsed": false
   },
   "outputs": [
    {
     "data": {
      "text/plain": [
       "'INSERT INTO queries (id, keywords, timestamp, results) VALUES (:id, :keywords, :timestamp, :results)'"
      ]
     },
     "execution_count": 8,
     "metadata": {},
     "output_type": "execute_result"
    }
   ],
   "source": [
    "insert_stmt = queries.insert()\n",
    "str(insert_stmt) # see an example of what this will do"
   ]
  },
  {
   "cell_type": "code",
   "execution_count": 9,
   "metadata": {
    "collapsed": false
   },
   "outputs": [
    {
     "data": {
      "text/plain": [
       "'INSERT INTO queries (keywords, timestamp) VALUES (:keywords, :timestamp)'"
      ]
     },
     "execution_count": 9,
     "metadata": {},
     "output_type": "execute_result"
    }
   ],
   "source": [
    "insert_stmt = queries.insert().values(keywords=\"puppies\")\n",
    "str(insert_stmt)"
   ]
  },
  {
   "cell_type": "code",
   "execution_count": 10,
   "metadata": {
    "collapsed": false
   },
   "outputs": [
    {
     "name": "stdout",
     "output_type": "stream",
     "text": [
      "2016-12-06 17:56:47,085 INFO sqlalchemy.engine.base.Engine INSERT INTO queries (keywords, timestamp) VALUES (?, ?)\n",
      "2016-12-06 17:56:47,085 INFO sqlalchemy.engine.base.Engine ('puppies', '2016-12-06 17:56:47.085000')\n",
      "2016-12-06 17:56:47,088 INFO sqlalchemy.engine.base.Engine COMMIT\n"
     ]
    },
    {
     "data": {
      "text/plain": [
       "[1]"
      ]
     },
     "execution_count": 10,
     "metadata": {},
     "output_type": "execute_result"
    }
   ],
   "source": [
    "db_conn = engine.connect()\n",
    "result = db_conn.execute(insert_stmt)\n",
    "result.inserted_primary_key # print out the primary key it was assigned"
   ]
  },
  {
   "cell_type": "code",
   "execution_count": 11,
   "metadata": {
    "collapsed": false
   },
   "outputs": [
    {
     "name": "stdout",
     "output_type": "stream",
     "text": [
      "2016-12-06 18:00:47,338 INFO sqlalchemy.engine.base.Engine INSERT INTO queries (keywords, timestamp) VALUES (?, ?)\n",
      "2016-12-06 18:00:47,338 INFO sqlalchemy.engine.base.Engine ('kittens', '2016-12-06 18:00:47.338000')\n",
      "2016-12-06 18:00:47,339 INFO sqlalchemy.engine.base.Engine COMMIT\n"
     ]
    },
    {
     "data": {
      "text/plain": [
       "[2]"
      ]
     },
     "execution_count": 11,
     "metadata": {},
     "output_type": "execute_result"
    }
   ],
   "source": [
    "insert_stmt = queries.insert().values(keywords=\"kittens\")\n",
    "result = db_conn.execute(insert_stmt)\n",
    "result.inserted_primary_key # print out the primary key it was assigned"
   ]
  },
  {
   "cell_type": "markdown",
   "metadata": {},
   "source": [
    "### Retrieving Data\n",
    "Read more about using [SQL select statments](http://docs.sqlalchemy.org/en/rel_1_0/core/tutorial.html#selecting)."
   ]
  },
  {
   "cell_type": "code",
   "execution_count": 12,
   "metadata": {
    "collapsed": false
   },
   "outputs": [
    {
     "name": "stdout",
     "output_type": "stream",
     "text": [
      "2016-12-06 18:01:00,446 INFO sqlalchemy.engine.base.Engine SELECT queries.id, queries.keywords, queries.timestamp, queries.results \n",
      "FROM queries\n",
      "2016-12-06 18:01:00,447 INFO sqlalchemy.engine.base.Engine ()\n",
      "(1, u'puppies', datetime.datetime(2016, 12, 6, 17, 56, 47, 85000), None)\n",
      "(2, u'kittens', datetime.datetime(2016, 12, 6, 18, 0, 47, 338000), None)\n"
     ]
    }
   ],
   "source": [
    "from sqlalchemy.sql import select\n",
    "select_stmt = select([queries])\n",
    "results = db_conn.execute(select_stmt)\n",
    "for row in results:\n",
    "    print row"
   ]
  },
  {
   "cell_type": "code",
   "execution_count": null,
   "metadata": {
    "collapsed": false
   },
   "outputs": [],
   "source": [
    "select_stmt = select([queries]).where(queries.c.id==1)\n",
    "for row in db_conn.execute(select_stmt):\n",
    "    print row"
   ]
  },
  {
   "cell_type": "code",
   "execution_count": null,
   "metadata": {
    "collapsed": false
   },
   "outputs": [],
   "source": [
    "select_stmt = select([queries]).where(queries.c.keywords.like('p%'))\n",
    "for row in db_conn.execute(select_stmt):\n",
    "    print row"
   ]
  },
  {
   "cell_type": "markdown",
   "metadata": {},
   "source": [
    "## ORM\n",
    "You can use their ORM library to handle the translation into full-fledged python objects.  This can help you build the Model for you [MVC](https://en.wikipedia.org/wiki/Model–view–controller) solution."
   ]
  },
  {
   "cell_type": "code",
   "execution_count": null,
   "metadata": {
    "collapsed": false
   },
   "outputs": [],
   "source": [
    "import datetime\n",
    "from sqlalchemy import *\n",
    "from sqlalchemy.ext.declarative import declarative_base\n",
    "from sqlalchemy.orm import sessionmaker\n",
    "Base = declarative_base()"
   ]
  },
  {
   "cell_type": "markdown",
   "metadata": {},
   "source": [
    "### Creating a class mapping\n",
    "Read more about [creating a mapping](http://docs.sqlalchemy.org/en/rel_1_0/orm/tutorial.html#declare-a-mapping)."
   ]
  },
  {
   "cell_type": "code",
   "execution_count": null,
   "metadata": {
    "collapsed": false
   },
   "outputs": [],
   "source": [
    "class Query(Base):\n",
    "    __tablename__ = 'queries'\n",
    "    id = Column(Integer, primary_key=True)\n",
    "    keywords = Column(String(400))\n",
    "    timestamp = Column(DateTime,default=datetime.datetime.now)\n",
    "    def __repr__(self):\n",
    "        return \"<Query(keywords='%s')>\" % (self.keywords)\n",
    "Query.__table__"
   ]
  },
  {
   "cell_type": "markdown",
   "metadata": {},
   "source": [
    "### Creating a connection and session\n",
    "Read more about [creating this stuff](http://docs.sqlalchemy.org/en/rel_1_0/orm/tutorial.html#creating-a-session)."
   ]
  },
  {
   "cell_type": "code",
   "execution_count": null,
   "metadata": {
    "collapsed": true
   },
   "outputs": [],
   "source": [
    "engine = create_engine('sqlite:///:memory:') # just save the db in memory for now (ie. not on disk)\n",
    "Base.metadata.create_all(engine)\n",
    "Session = sessionmaker(bind=engine)\n",
    "my_session = Session()"
   ]
  },
  {
   "cell_type": "markdown",
   "metadata": {},
   "source": [
    "### Inserting Data\n",
    "Read more about [inserting data with an ORM](http://docs.sqlalchemy.org/en/rel_1_0/orm/tutorial.html#adding-new-objects)."
   ]
  },
  {
   "cell_type": "code",
   "execution_count": null,
   "metadata": {
    "collapsed": false
   },
   "outputs": [],
   "source": [
    "query = Query(keywords=\"iguana\")\n",
    "query.keywords"
   ]
  },
  {
   "cell_type": "code",
   "execution_count": null,
   "metadata": {
    "collapsed": false
   },
   "outputs": [],
   "source": [
    "my_session.add(query)\n",
    "my_session.commit()\n",
    "query.id"
   ]
  },
  {
   "cell_type": "markdown",
   "metadata": {},
   "source": [
    "### Retrieving Data\n",
    "Read more about [retrieving data from the db](http://docs.sqlalchemy.org/en/rel_1_0/orm/tutorial.html#querying) via an ORM class."
   ]
  },
  {
   "cell_type": "code",
   "execution_count": null,
   "metadata": {
    "collapsed": false
   },
   "outputs": [],
   "source": [
    "for q in my_session.query(Query).order_by(Query.timestamp):\n",
    "    print q"
   ]
  },
  {
   "cell_type": "code",
   "execution_count": null,
   "metadata": {
    "collapsed": true
   },
   "outputs": [],
   "source": [
    "query1 = Query(keywords=\"robot\")\n",
    "query2 = Query(keywords=\"puppy\")\n",
    "my_session.add_all([query1,query2])\n",
    "my_session.commit()"
   ]
  },
  {
   "cell_type": "code",
   "execution_count": null,
   "metadata": {
    "collapsed": false
   },
   "outputs": [],
   "source": [
    "for q in my_session.query(Query).order_by(Query.timestamp):\n",
    "    print q"
   ]
  },
  {
   "cell_type": "code",
   "execution_count": null,
   "metadata": {
    "collapsed": false
   },
   "outputs": [],
   "source": [
    "for q in my_session.query(Query).filter(Query.keywords.like('r%')):\n",
    "    print q"
   ]
  },
  {
   "cell_type": "code",
   "execution_count": 35,
   "metadata": {
    "collapsed": false
   },
   "outputs": [
    {
     "name": "stdout",
     "output_type": "stream",
     "text": [
      "INSERT INTO queries (keywords, timestamp, results) VALUES (:keywords, :timestamp, :results)\n",
      "2016-12-06 18:12:10,476 INFO sqlalchemy.engine.base.Engine INSERT INTO queries (keywords, timestamp, results) VALUES (?, ?, ?)\n",
      "2016-12-06 18:12:10,477 INFO sqlalchemy.engine.base.Engine ('Clinton', '2016-12-06 18:12:10.476000', 16)\n",
      "2016-12-06 18:12:10,480 INFO sqlalchemy.engine.base.Engine COMMIT\n",
      "INSERT INTO queries (keywords, timestamp, results) VALUES (:keywords, :timestamp, :results)\n",
      "2016-12-06 18:12:10,733 INFO sqlalchemy.engine.base.Engine INSERT INTO queries (keywords, timestamp, results) VALUES (?, ?, ?)\n",
      "2016-12-06 18:12:10,733 INFO sqlalchemy.engine.base.Engine ('Trump', '2016-12-06 18:12:10.733000', 57)\n",
      "2016-12-06 18:12:10,736 INFO sqlalchemy.engine.base.Engine COMMIT\n"
     ]
    },
    {
     "data": {
      "text/plain": [
       "[22]"
      ]
     },
     "execution_count": 35,
     "metadata": {},
     "output_type": "execute_result"
    }
   ],
   "source": [
    "import mediacloud, datetime\n",
    "f = open('private_key.txt', 'r')\n",
    "privatekey = f.read()\n",
    "mc = mediacloud.api.MediaCloud(privatekey)\n",
    "keyword = 'Clinton'\n",
    "res_c = mc.sentenceCount(keyword, solr_filter=[mc.publish_date_query( datetime.date( 2016, 1, 9), datetime.date( 2016, 1, 10) ), 'media_sets_id:1' ])\n",
    "insert_stmt = queries.insert().values(keywords=keyword, results=res_c['count'])\n",
    "print str(insert_stmt)\n",
    "result = db_conn.execute(insert_stmt)\n",
    "result.inserted_primary_key # print out the primary key it was assigned\n",
    "\n",
    "keyword = 'Trump'\n",
    "res_t = mc.sentenceCount(keyword, solr_filter=[mc.publish_date_query( datetime.date( 2016, 1, 9), datetime.date( 2016, 1, 10) ), 'media_sets_id:1' ])\n",
    "insert_stmt = queries.insert().values(keywords=keyword, results=res_t['count'])\n",
    "print str(insert_stmt)\n",
    "result = db_conn.execute(insert_stmt)\n",
    "result.inserted_primary_key # print out the primary key it was assigned\n",
    "\n",
    "\n"
   ]
  },
  {
   "cell_type": "code",
   "execution_count": 36,
   "metadata": {
    "collapsed": false
   },
   "outputs": [
    {
     "name": "stdout",
     "output_type": "stream",
     "text": [
      "2016-12-06 18:12:11,457 INFO sqlalchemy.engine.base.Engine SELECT queries.id, queries.keywords, queries.timestamp, queries.results \n",
      "FROM queries\n",
      "2016-12-06 18:12:11,460 INFO sqlalchemy.engine.base.Engine ()\n",
      "(1, u'puppies', datetime.datetime(2016, 12, 6, 17, 56, 47, 85000), None)\n",
      "(2, u'kittens', datetime.datetime(2016, 12, 6, 18, 0, 47, 338000), None)\n",
      "(3, u'keyword', datetime.datetime(2016, 12, 6, 18, 7, 45, 274000), 16)\n",
      "(4, u'keyword', datetime.datetime(2016, 12, 6, 18, 7, 45, 570000), 57)\n",
      "(5, u'keyword', datetime.datetime(2016, 12, 6, 18, 8, 7, 819000), 16)\n",
      "(6, u'keyword', datetime.datetime(2016, 12, 6, 18, 8, 8, 130000), 57)\n",
      "(7, u'keyword', datetime.datetime(2016, 12, 6, 18, 8, 20, 339000), 1)\n",
      "(8, u'keyword', datetime.datetime(2016, 12, 6, 18, 8, 20, 591000), 0)\n",
      "(9, u'keyword', datetime.datetime(2016, 12, 6, 18, 8, 29, 808000), 11)\n",
      "(10, u'keyword', datetime.datetime(2016, 12, 6, 18, 8, 30, 140000), 0)\n",
      "(11, u'keyword', datetime.datetime(2016, 12, 6, 18, 8, 36, 688000), 1)\n",
      "(12, u'keyword', datetime.datetime(2016, 12, 6, 18, 8, 36, 899000), 0)\n",
      "(13, u'(puppies)', datetime.datetime(2016, 12, 6, 18, 11, 26, 477000), 1)\n",
      "(14, u'(kittens)', datetime.datetime(2016, 12, 6, 18, 11, 26, 848000), 0)\n",
      "(15, u'(Clinton)', datetime.datetime(2016, 12, 6, 18, 11, 36, 441000), 16)\n",
      "(16, u'(Trump)', datetime.datetime(2016, 12, 6, 18, 11, 36, 680000), 57)\n",
      "(17, u'Clinton', datetime.datetime(2016, 12, 6, 18, 12, 9, 355000), 16)\n",
      "(18, u'Trump', datetime.datetime(2016, 12, 6, 18, 12, 9, 625000), 57)\n",
      "(19, u'Clinton', datetime.datetime(2016, 12, 6, 18, 12, 9, 865000), 16)\n",
      "(20, u'Trump', datetime.datetime(2016, 12, 6, 18, 12, 10, 179000), 57)\n",
      "(21, u'Clinton', datetime.datetime(2016, 12, 6, 18, 12, 10, 476000), 16)\n",
      "(22, u'Trump', datetime.datetime(2016, 12, 6, 18, 12, 10, 733000), 57)\n"
     ]
    }
   ],
   "source": [
    "from sqlalchemy.sql import select\n",
    "select_stmt = select([queries])\n",
    "results = db_conn.execute(select_stmt)\n",
    "for row in results:\n",
    "    print row\n"
   ]
  },
  {
   "cell_type": "code",
   "execution_count": 69,
   "metadata": {
    "collapsed": false
   },
   "outputs": [
    {
     "name": "stdout",
     "output_type": "stream",
     "text": [
      "List of queries with results greater than 1 :\n",
      "\n",
      "2016-12-06 18:21:33,266 INFO sqlalchemy.engine.base.Engine SELECT queries.id, queries.keywords, queries.timestamp, queries.results \n",
      "FROM queries \n",
      "WHERE queries.results > ?\n",
      "2016-12-06 18:21:33,267 INFO sqlalchemy.engine.base.Engine (1,)\n",
      "(3, u'keyword', datetime.datetime(2016, 12, 6, 18, 7, 45, 274000), 16)\n",
      "(4, u'keyword', datetime.datetime(2016, 12, 6, 18, 7, 45, 570000), 57)\n",
      "(5, u'keyword', datetime.datetime(2016, 12, 6, 18, 8, 7, 819000), 16)\n",
      "(6, u'keyword', datetime.datetime(2016, 12, 6, 18, 8, 8, 130000), 57)\n",
      "(9, u'keyword', datetime.datetime(2016, 12, 6, 18, 8, 29, 808000), 11)\n",
      "(15, u'(Clinton)', datetime.datetime(2016, 12, 6, 18, 11, 36, 441000), 16)\n",
      "(16, u'(Trump)', datetime.datetime(2016, 12, 6, 18, 11, 36, 680000), 57)\n",
      "(17, u'Clinton', datetime.datetime(2016, 12, 6, 18, 12, 9, 355000), 16)\n",
      "(18, u'Trump', datetime.datetime(2016, 12, 6, 18, 12, 9, 625000), 57)\n",
      "(19, u'Clinton', datetime.datetime(2016, 12, 6, 18, 12, 9, 865000), 16)\n",
      "(20, u'Trump', datetime.datetime(2016, 12, 6, 18, 12, 10, 179000), 57)\n",
      "(21, u'Clinton', datetime.datetime(2016, 12, 6, 18, 12, 10, 476000), 16)\n",
      "(22, u'Trump', datetime.datetime(2016, 12, 6, 18, 12, 10, 733000), 57)\n"
     ]
    }
   ],
   "source": [
    "threshold = 1\n",
    "select_stmt = select([queries]).where(queries.c.results>threshold)\n",
    "print 'List of queries with results greater than',threshold,':\\n'\n",
    "for row in db_conn.execute(select_stmt):\n",
    "    print row"
   ]
  },
  {
   "cell_type": "code",
   "execution_count": 54,
   "metadata": {
    "collapsed": false
   },
   "outputs": [
    {
     "name": "stdout",
     "output_type": "stream",
     "text": [
      "2016-12-06 18:17:43,782 INFO sqlalchemy.engine.base.Engine SELECT queries.id, queries.keywords, queries.timestamp, queries.results \n",
      "FROM queries \n",
      "WHERE queries.keywords LIKE ?\n",
      "2016-12-06 18:17:43,782 INFO sqlalchemy.engine.base.Engine ('trum%',)\n",
      "(18, u'Trump', datetime.datetime(2016, 12, 6, 18, 12, 9, 625000), 57)\n",
      "(20, u'Trump', datetime.datetime(2016, 12, 6, 18, 12, 10, 179000), 57)\n",
      "(22, u'Trump', datetime.datetime(2016, 12, 6, 18, 12, 10, 733000), 57)\n"
     ]
    }
   ],
   "source": [
    "term = 'trum%'\n",
    "select_stmt = select([queries]).where(queries.c.keywords.like(term))\n",
    "for row in db_conn.execute(select_stmt):\n",
    "    print row"
   ]
  },
  {
   "cell_type": "code",
   "execution_count": 53,
   "metadata": {
    "collapsed": false
   },
   "outputs": [
    {
     "name": "stdout",
     "output_type": "stream",
     "text": [
      "2016-12-06 18:17:24,520 INFO sqlalchemy.engine.base.Engine SELECT queries.id, queries.keywords, queries.timestamp, queries.results \n",
      "FROM queries \n",
      "WHERE queries.keywords LIKE ?\n",
      "2016-12-06 18:17:24,523 INFO sqlalchemy.engine.base.Engine ('trum%',)\n",
      "Sum of all queries that contain the term *** trum% *** is 171\n"
     ]
    }
   ],
   "source": [
    "term = 'trum%'\n",
    "select_stmt = select([queries]).where(queries.c.keywords.like(term))\n",
    "sum = 0\n",
    "for row in db_conn.execute(select_stmt):\n",
    "    sum += row[3]\n",
    "print 'Sum of all queries that contain the term ***',term,'*** is',sum"
   ]
  },
  {
   "cell_type": "code",
   "execution_count": null,
   "metadata": {
    "collapsed": true
   },
   "outputs": [],
   "source": []
  },
  {
   "cell_type": "code",
   "execution_count": null,
   "metadata": {
    "collapsed": true
   },
   "outputs": [],
   "source": []
  }
 ],
 "metadata": {
  "kernelspec": {
   "display_name": "Python 2",
   "language": "python",
   "name": "python2"
  },
  "language_info": {
   "codemirror_mode": {
    "name": "ipython",
    "version": 2
   },
   "file_extension": ".py",
   "mimetype": "text/x-python",
   "name": "python",
   "nbconvert_exporter": "python",
   "pygments_lexer": "ipython2",
   "version": "2.7.12"
  }
 },
 "nbformat": 4,
 "nbformat_minor": 0
}
